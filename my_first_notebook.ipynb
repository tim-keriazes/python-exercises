{
 "cells": [
  {
   "cell_type": "code",
   "execution_count": 1,
   "id": "93893c54",
   "metadata": {
    "scrolled": true
   },
   "outputs": [
    {
     "name": "stdout",
     "output_type": "stream",
     "text": [
      "Hello, Kalpana!\n"
     ]
    }
   ],
   "source": [
    "# this is a comment for us to read and understand what this piece of code is doing\n",
    "\n",
    "greeting ='Hello, Kalpana!'\n",
    "print(greeting)\n"
   ]
  },
  {
   "cell_type": "markdown",
   "id": "e214463d",
   "metadata": {},
   "source": [
    "## this is a heading\n",
    "### this is a subheading\n",
    "##### - this is not a bullet"
   ]
  },
  {
   "cell_type": "code",
   "execution_count": 1,
   "id": "8ee6cae9",
   "metadata": {},
   "outputs": [
    {
     "name": "stdout",
     "output_type": "stream",
     "text": [
      "initiated datasets repo at: /Users/mymac/.pydataset/\n"
     ]
    }
   ],
   "source": [
    "from pydataset import data"
   ]
  },
  {
   "cell_type": "code",
   "execution_count": null,
   "id": "ba27b393",
   "metadata": {},
   "outputs": [],
   "source": [
    "## some keyboard shortcuts i learned are Command Mode (press Esc to enable)\n",
    "## Enter : enter edit mode\n",
    "## Shift-Enter : run cell, select below\n",
    "## Ctrl-Enter : run cell\n",
    "## Alt-Enter : run cell, insert below\n",
    "## Y : to code\n",
    "## M : to markdown\n",
    "## R : to raw"
   ]
  },
  {
   "cell_type": "code",
   "execution_count": null,
   "id": "7a691eba",
   "metadata": {},
   "outputs": [],
   "source": []
  }
 ],
 "metadata": {
  "kernelspec": {
   "display_name": "Python 3 (ipykernel)",
   "language": "python",
   "name": "python3"
  },
  "language_info": {
   "codemirror_mode": {
    "name": "ipython",
    "version": 3
   },
   "file_extension": ".py",
   "mimetype": "text/x-python",
   "name": "python",
   "nbconvert_exporter": "python",
   "pygments_lexer": "ipython3",
   "version": "3.9.12"
  }
 },
 "nbformat": 4,
 "nbformat_minor": 5
}
